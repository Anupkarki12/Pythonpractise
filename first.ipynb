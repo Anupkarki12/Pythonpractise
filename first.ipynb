{
 "cells": [
  {
   "cell_type": "code",
   "execution_count": null,
   "id": "78443d81",
   "metadata": {},
   "outputs": [],
   "source": [
    "import pyttsx3\n",
    "# initialize the speech engine\n",
    "engine=pyttsx3.init()\n",
    "# set properties (optional)\n",
    "engine.setProperty('rate',150) \n",
    "engine.setProperty('volume',1.0)\n",
    "\n",
    "# Text to speak\n",
    "text=\"Hello! This is a speech synthesis test using Python. We are learning speech Synthesis ie Converting rom text to speech\"\n",
    "# Speak the text\n",
    "engine.say(text)\n",
    "engine.runAndWait()\n"
   ]
  },
  {
   "cell_type": "code",
   "execution_count": 13,
   "id": "bd366e06",
   "metadata": {},
   "outputs": [
    {
     "name": "stdout",
     "output_type": "stream",
     "text": [
      "Adjusting for ambient noise...please wait.\n",
      "Say something!\n",
      "You said: hello hello hello\n"
     ]
    }
   ],
   "source": [
    "# Code for testing speech recognition\n",
    "import speech_recognition as sr\n",
    "\n",
    "recognizer = sr.Recognizer()\n",
    "\n",
    "with sr.Microphone() as source:\n",
    "    print(\"Adjusting for ambient noise...please wait.\")\n",
    "    recognizer.adjust_for_ambient_noise(source)  # <- Correct method name\n",
    "    print(\"Say something!\")\n",
    "    audio = recognizer.listen(source)\n",
    "\n",
    "    try:\n",
    "        text = recognizer.recognize_google(audio)\n",
    "        print(\"You said:\", text)\n",
    "    except sr.UnknownValueError:\n",
    "        print(\"Sorry, could not understand the audio.\")\n",
    "    except sr.RequestError as e:\n",
    "        print(\"Could not request results; check your internet connection.\", e)\n"
   ]
  },
  {
   "cell_type": "code",
   "execution_count": null,
   "id": "9b3e5632",
   "metadata": {},
   "outputs": [],
   "source": []
  }
 ],
 "metadata": {
  "kernelspec": {
   "display_name": "Python 3",
   "language": "python",
   "name": "python3"
  },
  "language_info": {
   "codemirror_mode": {
    "name": "ipython",
    "version": 3
   },
   "file_extension": ".py",
   "mimetype": "text/x-python",
   "name": "python",
   "nbconvert_exporter": "python",
   "pygments_lexer": "ipython3",
   "version": "3.12.4"
  }
 },
 "nbformat": 4,
 "nbformat_minor": 5
}
